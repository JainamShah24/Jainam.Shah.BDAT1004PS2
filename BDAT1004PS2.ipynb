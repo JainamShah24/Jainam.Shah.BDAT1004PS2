{
 "cells": [
  {
   "cell_type": "markdown",
   "id": "f7cde0e3",
   "metadata": {},
   "source": [
    "## Question 1"
   ]
  },
  {
   "cell_type": "code",
   "execution_count": 11,
   "id": "91249fa6",
   "metadata": {},
   "outputs": [],
   "source": [
    "a = 0\n",
    "def b():\n",
    "    global a\n",
    "    a = c(a)\n",
    "def c(a):\n",
    "    return a + 2"
   ]
  },
  {
   "cell_type": "code",
   "execution_count": 12,
   "id": "5babdc7b",
   "metadata": {},
   "outputs": [],
   "source": [
    "b()"
   ]
  },
  {
   "cell_type": "code",
   "execution_count": 13,
   "id": "29a11e74",
   "metadata": {},
   "outputs": [],
   "source": [
    "b()"
   ]
  },
  {
   "cell_type": "code",
   "execution_count": 14,
   "id": "ff0e8070",
   "metadata": {},
   "outputs": [],
   "source": [
    "b()"
   ]
  },
  {
   "cell_type": "code",
   "execution_count": 15,
   "id": "a33ff64a",
   "metadata": {},
   "outputs": [
    {
     "name": "stdout",
     "output_type": "stream",
     "text": [
      "6\n"
     ]
    }
   ],
   "source": [
    "print(a)"
   ]
  },
  {
   "cell_type": "markdown",
   "id": "399521d1",
   "metadata": {},
   "source": [
    "In the above python module, when we call method b(), it uses global variable 'a' and then calls method c() which returns a+2. (Initially value of a is 0 and as we called method b() three times, the final value of a is 6."
   ]
  },
  {
   "cell_type": "markdown",
   "id": "e332c2ec",
   "metadata": {},
   "source": [
    "## Question 2"
   ]
  },
  {
   "cell_type": "code",
   "execution_count": 35,
   "id": "9e21115a",
   "metadata": {},
   "outputs": [],
   "source": [
    "def fileLength(filename):\n",
    "    try:\n",
    "        file_read = open(filename,\"r\").read()\n",
    "        print(\"Length of file -->\", len(file_read))\n",
    "    except FileNotFoundError:\n",
    "        print(\"File \", filename, \" not found\")"
   ]
  },
  {
   "cell_type": "code",
   "execution_count": 36,
   "id": "fe549bb4",
   "metadata": {},
   "outputs": [
    {
     "name": "stdout",
     "output_type": "stream",
     "text": [
      "Length of file --> 123\n"
     ]
    }
   ],
   "source": [
    "fileLength(\"Filelength.txt\")"
   ]
  },
  {
   "cell_type": "code",
   "execution_count": 37,
   "id": "4a30fd2a",
   "metadata": {},
   "outputs": [
    {
     "name": "stdout",
     "output_type": "stream",
     "text": [
      "File  ilelength.txt  not found\n"
     ]
    }
   ],
   "source": [
    "fileLength(\"ilelength.txt\")"
   ]
  },
  {
   "cell_type": "markdown",
   "id": "de726ec2",
   "metadata": {},
   "source": [
    "## Question 3"
   ]
  },
  {
   "cell_type": "code",
   "execution_count": 74,
   "id": "da07f6fb",
   "metadata": {},
   "outputs": [
    {
     "name": "stdout",
     "output_type": "stream",
     "text": [
      "['doll', 'firetruck', 'kitten']\n",
      "I am a Kangaroo located at coordinates (0,0)\n",
      "['doll', 'firetruck', 'kitten']\n",
      "I am a Kangaroo located at coordinates (3,0)\n"
     ]
    }
   ],
   "source": [
    "class Marsupial:\n",
    "    def __init__(self):\n",
    "        self.pouch = []\n",
    "    def put_in_pouch(self, item):\n",
    "        self.pouch.append(item)\n",
    "    def pouch_contents(self):\n",
    "        print(self.pouch)\n",
    "        \n",
    "class Kangaroo(Marsupial):\n",
    "    def __init__(self, x, y):\n",
    "        self.x = x\n",
    "        self.y = y\n",
    "        super().__init__()\n",
    "        \n",
    "    def jump(self, dx, dy):\n",
    "        self.x = self.x + dx\n",
    "        self.y = self.y + dy\n",
    "    \n",
    "    def __str__(self):\n",
    "        return \"I am a Kangaroo located at coordinates ({},{})\".format(self.x,self.y)\n",
    "    \n",
    "m = Marsupial()\n",
    "m.put_in_pouch('doll')\n",
    "m.put_in_pouch('firetruck')\n",
    "m.put_in_pouch('kitten')\n",
    "m.pouch_contents()\n",
    "k = Kangaroo(0,0)\n",
    "print(k)\n",
    "k.put_in_pouch('doll')\n",
    "k.put_in_pouch('firetruck')\n",
    "k.put_in_pouch('kitten')\n",
    "k.pouch_contents()\n",
    "k.jump(1,0)\n",
    "k.jump(1,0)\n",
    "k.jump(1,0)\n",
    "print(k)"
   ]
  },
  {
   "cell_type": "markdown",
   "id": "e47f313c",
   "metadata": {},
   "source": [
    "## Question 4"
   ]
  },
  {
   "cell_type": "code",
   "execution_count": 87,
   "id": "ad8d884c",
   "metadata": {},
   "outputs": [
    {
     "name": "stdout",
     "output_type": "stream",
     "text": [
      "10\n",
      "5\n",
      "16\n",
      "8\n",
      "4\n",
      "2\n",
      "1\n"
     ]
    }
   ],
   "source": [
    "def collatz(number):\n",
    "    print(int(number))\n",
    "    if(number == 1):\n",
    "        return\n",
    "    if(number%2 == 0):\n",
    "        number = number/2\n",
    "    else:\n",
    "        number = (3*number) + 1\n",
    "    collatz(number)\n",
    "\n",
    "collatz(10)"
   ]
  },
  {
   "cell_type": "markdown",
   "id": "da1d8558",
   "metadata": {},
   "source": [
    "## Question 5"
   ]
  },
  {
   "cell_type": "code",
   "execution_count": 117,
   "id": "a968901f",
   "metadata": {},
   "outputs": [
    {
     "name": "stdout",
     "output_type": "stream",
     "text": [
      "1010\n",
      "1001\n",
      "11\n",
      "1\n",
      "0"
     ]
    }
   ],
   "source": [
    "bin = []\n",
    "def binary(number):\n",
    "    num = int(number)\n",
    "    if num==0:\n",
    "        bin.append(0)\n",
    "        return\n",
    "    bin.append(num%2)\n",
    "    if num==1:\n",
    "        return\n",
    "    binary(num/2)\n",
    "binary(0)\n",
    "bin.append(\"\\n\")\n",
    "binary(1)\n",
    "bin.append(\"\\n\")\n",
    "binary(3)\n",
    "bin.append(\"\\n\")\n",
    "binary(9)\n",
    "bin.append(\"\\n\")\n",
    "binary(10)\n",
    "\n",
    "bin.reverse()\n",
    "for i in bin:\n",
    "    print(i,end=\"\")"
   ]
  },
  {
   "cell_type": "markdown",
   "id": "f09b6168",
   "metadata": {},
   "source": [
    "## Question 6"
   ]
  },
  {
   "cell_type": "code",
   "execution_count": 121,
   "id": "f13ec0e7",
   "metadata": {},
   "outputs": [
    {
     "name": "stdout",
     "output_type": "stream",
     "text": [
      " W3C Mission\n",
      "  Principles\n"
     ]
    }
   ],
   "source": [
    "from html.parser import HTMLParser\n",
    "class HeadingParser(HTMLParser):\n",
    "    \n",
    "    def __init__(self):\n",
    "        super().__init__()\n",
    "        self.headings = list()\n",
    "        \n",
    "    def handle_starttag(self, tag, attrs):\n",
    "        if tag == 'h1' or tag == 'h2' or tag == 'h3' or tag == 'h4' or tag == 'h5' or tag == 'h6':\n",
    "            self.headings.append(tag)\n",
    "            \n",
    "    def handle_endtag(self, tag):\n",
    "        if tag == 'h1' or tag == 'h2' or tag == 'h3' or tag == 'h4' or tag == 'h5' or tag == 'h6':\n",
    "            self.headings.pop()\n",
    "            \n",
    "    def handle_data(self,content):\n",
    "        if content.strip() and self.headings:\n",
    "            print(' '*int(self.headings[0][-1]),end = \"\")\n",
    "            print(content.strip())\n",
    "\n",
    "\n",
    "infile = open('w3c.html')\n",
    "content = infile.read()\n",
    "infile.close()\n",
    "hp = HeadingParser()\n",
    "hp.feed(content)\n"
   ]
  },
  {
   "cell_type": "markdown",
   "id": "46f906bc",
   "metadata": {},
   "source": [
    "## Question 7"
   ]
  },
  {
   "cell_type": "code",
   "execution_count": 125,
   "id": "da9d029f",
   "metadata": {},
   "outputs": [
    {
     "name": "stdout",
     "output_type": "stream",
     "text": [
      "https://www.georgiancollege.ca/academics/programs/\n",
      " https://georgianatilac.com/\n",
      " https://www.georgiancollege.ca/\n",
      "  https://georgianatilac.com/\n",
      "  https://georgiancollege.sharepoint.com/sites/gcPortal/SitePages/Home.aspx\n",
      "  https://twitter.com/georgiancollege\n",
      "  https://www.facebook.com/GeorgianCollege\n",
      "  https://www.linkedin.com/school/2409/\n",
      " https://www.georgiancollege.ca/academics/\n",
      "  https://georgianatilac.com/\n",
      "  https://www.georgiancollege.ca/academics/part-time-studies/courses/?area=PDEV\n",
      "  https://www.georgiancollege.ca/academics/online-learning/\n",
      "  https://twitter.com/georgiancollege\n",
      "  https://www.facebook.com/GeorgianCollege\n",
      "  https://www.linkedin.com/school/2409/\n",
      " https://www.facebook.com/GeorgianCollege\n",
      " https://twitter.com/georgiancollege\n",
      "  https://help.twitter.com/using-twitter/twitter-supported-browsers\n",
      "  https://twitter.com/tos\n",
      "  https://twitter.com/privacy\n",
      "  https://support.twitter.com/articles/20170514\n",
      "  https://legal.twitter.com/imprint.html\n",
      "  https://business.twitter.com/en/help/troubleshooting/how-twitter-ads-work.html?ref=web-twc-ao-gbl-adsinfo&utm_source=twc&utm_medium=web&utm_campaign=ao&utm_content=adsinfo\n",
      " https://www.lakeheadgeorgian.ca/programs/electrical-engineering/\n",
      "  https://georgiancollege.sharepoint.com/sites/LUGC\n",
      "  https://erpwp.lakeheadu.ca/lg\n",
      "  https://www.lakeheadgeorgian.ca/admissions/apply/\n",
      "  https://www.lakeheadgeorgian.ca/\n",
      "  https://www.lakeheadgeorgian.ca/\n",
      "  https://www.lakeheadgeorgian.ca/programs/\n",
      "  https://www.lakeheadgeorgian.ca/programs/electrical-engineering/\n",
      "  https://www.lakeheadgeorgian.ca/programs/environmental-sustainability/\n",
      "  https://www.lakeheadgeorgian.ca/programs/applied-life-science/\n",
      "  https://www.lakeheadgeorgian.ca/programs/computer-science/\n",
      "  https://www.lakeheadgeorgian.ca/admissions/\n",
      "  https://www.lakeheadgeorgian.ca/admissions/academic-calendar/\n",
      "  https://www.lakeheadgeorgian.ca/admissions/admissions-requirements-important-dates/\n",
      "  https://www.lakeheadgeorgian.ca/admissions/apply/\n",
      "  https://www.lakeheadgeorgian.ca/admissions/apply/application-deadlines/\n",
      "  https://www.lakeheadgeorgian.ca/admissions/apply/youve-applied-now-what/\n",
      "  https://www.lakeheadgeorgian.ca/admissions/apply/accept-your-offer/\n",
      "  https://www.lakeheadgeorgian.ca/admissions/apply/youre-in-next-steps/\n",
      "  https://www.lakeheadgeorgian.ca/admissions/tuition-fees-financial-assistance/\n",
      "  https://www.lakeheadgeorgian.ca/admissions/international-students/\n",
      "  https://www.lakeheadgeorgian.ca/admissions/international-students/next-steps/\n",
      "  https://www.lakeheadgeorgian.ca/admissions/international-students/pre-departure-planning/\n",
      "  https://www.lakeheadgeorgian.ca/admissions/international-students/international-scholarships-and-awards/\n",
      "  https://www.lakeheadgeorgian.ca/admissions/international-students/apply-for-visa-immigration-documents/\n",
      "  https://www.lakeheadgeorgian.ca/student-life/\n",
      "  https://www.lakeheadgeorgian.ca/student-life/campus-services/\n",
      "  https://www.lakeheadgeorgian.ca/student-life/campus-services/athletics/\n",
      "  https://www.lakeheadgeorgian.ca/student-life/campus-services/bookstores/\n",
      "  https://www.lakeheadgeorgian.ca/student-life/campus-services/campus-safety-security/\n",
      "  https://www.lakeheadgeorgian.ca/student-life/campus-services/clubs-societies/\n",
      "  https://www.lakeheadgeorgian.ca/student-life/campus-services/dining/\n",
      "  https://www.lakeheadgeorgian.ca/student-life/campus-services/housing-residence/\n",
      "  https://www.lakeheadgeorgian.ca/student-life/campus-services/transportation-parking/\n",
      "  https://www.lakeheadgeorgian.ca/student-life/new-student-transition/\n",
      "  https://www.lakeheadgeorgian.ca/student-life/student-support/\n",
      "  https://www.lakeheadgeorgian.ca/student-life/student-support/accessibility/\n",
      "  https://www.lakeheadgeorgian.ca/student-life/student-support/indigenous-students/\n",
      "  https://www.lakeheadgeorgian.ca/student-life/student-support/international-students-support/\n",
      "  https://www.lakeheadgeorgian.ca/student-life/student-support/student-employment/\n",
      "  https://www.lakeheadgeorgian.ca/student-life/student-support/student-health-wellness/\n",
      "  https://www.lakeheadgeorgian.ca/student-life/students-associations/\n",
      "  https://www.lakeheadgeorgian.ca/student-life/alumni/\n",
      "  https://www.lakeheadgeorgian.ca/about-us/\n",
      "  https://www.lakeheadgeorgian.ca/about-us/campuses/\n",
      "  https://www.lakeheadgeorgian.ca/about-us/campuses/barrie-campus/\n",
      "  https://www.lakeheadgeorgian.ca/about-us/campuses/orillia-campus/\n",
      "  https://www.lakeheadgeorgian.ca/about-us/book-a-tour/\n",
      "  https://www.lakeheadgeorgian.ca/about-us/contact-us/\n",
      "  https://www.lakeheadgeorgian.ca/about-us/join-our-email-list/\n",
      "  https://www.lakeheadgeorgian.ca/about-us/events-and-webinars/\n",
      "  https://www.lakeheadgeorgian.ca/about-us/giving/\n",
      "  https://www.lakeheadgeorgian.ca/blog/\n"
     ]
    },
    {
     "ename": "AttributeError",
     "evalue": "'NoneType' object has no attribute 'startswith'",
     "output_type": "error",
     "traceback": [
      "\u001b[1;31m---------------------------------------------------------------------------\u001b[0m",
      "\u001b[1;31mAttributeError\u001b[0m                            Traceback (most recent call last)",
      "\u001b[1;32m~\\AppData\\Local\\Temp\\ipykernel_44012\\3443345811.py\u001b[0m in \u001b[0;36m<module>\u001b[1;34m\u001b[0m\n\u001b[0;32m     12\u001b[0m         \u001b[1;32mif\u001b[0m \u001b[0ma_tag\u001b[0m\u001b[1;33m.\u001b[0m\u001b[0mget\u001b[0m\u001b[1;33m(\u001b[0m\u001b[1;34m'href'\u001b[0m\u001b[1;33m)\u001b[0m\u001b[1;33m.\u001b[0m\u001b[0mstartswith\u001b[0m\u001b[1;33m(\u001b[0m\u001b[1;34m'https'\u001b[0m\u001b[1;33m)\u001b[0m\u001b[1;33m:\u001b[0m\u001b[1;33m\u001b[0m\u001b[1;33m\u001b[0m\u001b[0m\n\u001b[0;32m     13\u001b[0m             \u001b[0mwebdir\u001b[0m\u001b[1;33m(\u001b[0m\u001b[0ma_tag\u001b[0m\u001b[1;33m.\u001b[0m\u001b[0mget\u001b[0m\u001b[1;33m(\u001b[0m\u001b[1;34m'href'\u001b[0m\u001b[1;33m)\u001b[0m\u001b[1;33m,\u001b[0m \u001b[0mdepth\u001b[0m\u001b[1;33m-\u001b[0m\u001b[1;36m1\u001b[0m\u001b[1;33m,\u001b[0m \u001b[0mindent\u001b[0m\u001b[1;33m+\u001b[0m\u001b[1;36m1\u001b[0m\u001b[1;33m)\u001b[0m\u001b[1;33m\u001b[0m\u001b[1;33m\u001b[0m\u001b[0m\n\u001b[1;32m---> 14\u001b[1;33m \u001b[0mwebdir\u001b[0m\u001b[1;33m(\u001b[0m\u001b[1;34m'https://www.georgiancollege.ca/academics/programs/'\u001b[0m\u001b[1;33m,\u001b[0m \u001b[1;36m2\u001b[0m\u001b[1;33m,\u001b[0m \u001b[1;36m0\u001b[0m\u001b[1;33m)\u001b[0m\u001b[1;33m\u001b[0m\u001b[1;33m\u001b[0m\u001b[0m\n\u001b[0m",
      "\u001b[1;32m~\\AppData\\Local\\Temp\\ipykernel_44012\\3443345811.py\u001b[0m in \u001b[0;36mwebdir\u001b[1;34m(url, depth, indent)\u001b[0m\n\u001b[0;32m     11\u001b[0m     \u001b[1;32mfor\u001b[0m \u001b[0ma_tag\u001b[0m \u001b[1;32min\u001b[0m \u001b[0msoup\u001b[0m\u001b[1;33m.\u001b[0m\u001b[0mfind_all\u001b[0m\u001b[1;33m(\u001b[0m\u001b[1;34m'a'\u001b[0m\u001b[1;33m)\u001b[0m\u001b[1;33m:\u001b[0m\u001b[1;33m\u001b[0m\u001b[1;33m\u001b[0m\u001b[0m\n\u001b[0;32m     12\u001b[0m         \u001b[1;32mif\u001b[0m \u001b[0ma_tag\u001b[0m\u001b[1;33m.\u001b[0m\u001b[0mget\u001b[0m\u001b[1;33m(\u001b[0m\u001b[1;34m'href'\u001b[0m\u001b[1;33m)\u001b[0m\u001b[1;33m.\u001b[0m\u001b[0mstartswith\u001b[0m\u001b[1;33m(\u001b[0m\u001b[1;34m'https'\u001b[0m\u001b[1;33m)\u001b[0m\u001b[1;33m:\u001b[0m\u001b[1;33m\u001b[0m\u001b[1;33m\u001b[0m\u001b[0m\n\u001b[1;32m---> 13\u001b[1;33m             \u001b[0mwebdir\u001b[0m\u001b[1;33m(\u001b[0m\u001b[0ma_tag\u001b[0m\u001b[1;33m.\u001b[0m\u001b[0mget\u001b[0m\u001b[1;33m(\u001b[0m\u001b[1;34m'href'\u001b[0m\u001b[1;33m)\u001b[0m\u001b[1;33m,\u001b[0m \u001b[0mdepth\u001b[0m\u001b[1;33m-\u001b[0m\u001b[1;36m1\u001b[0m\u001b[1;33m,\u001b[0m \u001b[0mindent\u001b[0m\u001b[1;33m+\u001b[0m\u001b[1;36m1\u001b[0m\u001b[1;33m)\u001b[0m\u001b[1;33m\u001b[0m\u001b[1;33m\u001b[0m\u001b[0m\n\u001b[0m\u001b[0;32m     14\u001b[0m \u001b[0mwebdir\u001b[0m\u001b[1;33m(\u001b[0m\u001b[1;34m'https://www.georgiancollege.ca/academics/programs/'\u001b[0m\u001b[1;33m,\u001b[0m \u001b[1;36m2\u001b[0m\u001b[1;33m,\u001b[0m \u001b[1;36m0\u001b[0m\u001b[1;33m)\u001b[0m\u001b[1;33m\u001b[0m\u001b[1;33m\u001b[0m\u001b[0m\n",
      "\u001b[1;32m~\\AppData\\Local\\Temp\\ipykernel_44012\\3443345811.py\u001b[0m in \u001b[0;36mwebdir\u001b[1;34m(url, depth, indent)\u001b[0m\n\u001b[0;32m     10\u001b[0m \u001b[1;33m\u001b[0m\u001b[0m\n\u001b[0;32m     11\u001b[0m     \u001b[1;32mfor\u001b[0m \u001b[0ma_tag\u001b[0m \u001b[1;32min\u001b[0m \u001b[0msoup\u001b[0m\u001b[1;33m.\u001b[0m\u001b[0mfind_all\u001b[0m\u001b[1;33m(\u001b[0m\u001b[1;34m'a'\u001b[0m\u001b[1;33m)\u001b[0m\u001b[1;33m:\u001b[0m\u001b[1;33m\u001b[0m\u001b[1;33m\u001b[0m\u001b[0m\n\u001b[1;32m---> 12\u001b[1;33m         \u001b[1;32mif\u001b[0m \u001b[0ma_tag\u001b[0m\u001b[1;33m.\u001b[0m\u001b[0mget\u001b[0m\u001b[1;33m(\u001b[0m\u001b[1;34m'href'\u001b[0m\u001b[1;33m)\u001b[0m\u001b[1;33m.\u001b[0m\u001b[0mstartswith\u001b[0m\u001b[1;33m(\u001b[0m\u001b[1;34m'https'\u001b[0m\u001b[1;33m)\u001b[0m\u001b[1;33m:\u001b[0m\u001b[1;33m\u001b[0m\u001b[1;33m\u001b[0m\u001b[0m\n\u001b[0m\u001b[0;32m     13\u001b[0m             \u001b[0mwebdir\u001b[0m\u001b[1;33m(\u001b[0m\u001b[0ma_tag\u001b[0m\u001b[1;33m.\u001b[0m\u001b[0mget\u001b[0m\u001b[1;33m(\u001b[0m\u001b[1;34m'href'\u001b[0m\u001b[1;33m)\u001b[0m\u001b[1;33m,\u001b[0m \u001b[0mdepth\u001b[0m\u001b[1;33m-\u001b[0m\u001b[1;36m1\u001b[0m\u001b[1;33m,\u001b[0m \u001b[0mindent\u001b[0m\u001b[1;33m+\u001b[0m\u001b[1;36m1\u001b[0m\u001b[1;33m)\u001b[0m\u001b[1;33m\u001b[0m\u001b[1;33m\u001b[0m\u001b[0m\n\u001b[0;32m     14\u001b[0m \u001b[0mwebdir\u001b[0m\u001b[1;33m(\u001b[0m\u001b[1;34m'https://www.georgiancollege.ca/academics/programs/'\u001b[0m\u001b[1;33m,\u001b[0m \u001b[1;36m2\u001b[0m\u001b[1;33m,\u001b[0m \u001b[1;36m0\u001b[0m\u001b[1;33m)\u001b[0m\u001b[1;33m\u001b[0m\u001b[1;33m\u001b[0m\u001b[0m\n",
      "\u001b[1;31mAttributeError\u001b[0m: 'NoneType' object has no attribute 'startswith'"
     ]
    }
   ],
   "source": [
    "import requests\n",
    "from bs4 import BeautifulSoup\n",
    "\n",
    "def webdir(url, depth, indent):\n",
    "    print(' '*indent + url)\n",
    "    if depth == 0:\n",
    "        return\n",
    "    \n",
    "    soup = BeautifulSoup(requests.get(url).content, 'html.parser')\n",
    "\n",
    "    for a_tag in soup.find_all('a'):\n",
    "        if a_tag.get('href').startswith('https'):\n",
    "            webdir(a_tag.get('href'), depth-1, indent+1)\n",
    "webdir('https://www.georgiancollege.ca/academics/programs/', 2, 0)"
   ]
  },
  {
   "cell_type": "markdown",
   "id": "7b89e4c0",
   "metadata": {},
   "source": [
    "## Question 8"
   ]
  },
  {
   "cell_type": "markdown",
   "id": "fec55d64",
   "metadata": {},
   "source": [
    "##### 8a = All the temperature data\n",
    "SELECT temperature FROM weather\n",
    "\n",
    "#####  8b = All the cities, but without repetition\n",
    "SELECT DISTINCT(city) FROM weather\n",
    "\n",
    "#####  8c = All the records for India\n",
    "SELECT * FROM weather WHERE country='India'\n",
    "\n",
    "#####  8d = All the Fall records\n",
    "SELECT * FROM weather WHERE season='Fall'\n",
    "\n",
    "#####  8e = The city and country for which the average rainfall is between 200 and 400 millimeters\n",
    "SELECT city, country FROM weather WHERE AVG(rainfall) BETWEEN 200 AND 400 GROUP BY city, country\n",
    "\n",
    "#####  8f = The city and country for which the average Fall temperature is above 20 degrees, in increasing temperature order.\n",
    "SELECT city, country FROM weather WHERE rainfall > 20.0 AND season='Fall' ORDER BY temperature\n",
    "\n",
    "#####  8g = The total annual rainfall for Cairo.\n",
    "SELECT sum(rainfall) FROM weather WHERE city = 'Cairo'\n",
    "\n",
    "#####  8h = The total rainfall for each season.\n",
    "SELECT sum(rainfall) FROM weather GROUP BY season "
   ]
  },
  {
   "cell_type": "markdown",
   "id": "5626e638",
   "metadata": {},
   "source": [
    "## Question 9"
   ]
  },
  {
   "cell_type": "code",
   "execution_count": 126,
   "id": "f66c9c5a",
   "metadata": {},
   "outputs": [
    {
     "name": "stdout",
     "output_type": "stream",
     "text": [
      "['THE', 'QUICK', 'BROWN', 'FOX', 'JUMPS', 'OVER', 'THE', 'LAZY', 'DOG']\n",
      "['the', 'quick', 'brown', 'fox', 'jumps', 'over', 'the', 'lazy', 'dog']\n",
      "[3, 5, 5, 3, 5, 4, 3, 4, 3]\n",
      "[['THE', 'the', 3], ['QUICK', 'quick', 5], ['BROWN', 'brown', 5], ['FOX', 'fox', 3], ['JUMPS', 'jumps', 5], ['OVER', 'over', 4], ['THE', 'the', 3], ['LAZY', 'lazy', 4], ['DOG', 'dog', 3]]\n",
      "['quick', 'brown', 'jumps', 'over', 'lazy']\n"
     ]
    }
   ],
   "source": [
    "words = ['The', 'quick', 'brown', 'fox', 'jumps', 'over', 'the', 'lazy', 'dog']\n",
    "\n",
    "#All in upper\n",
    "print([x.upper() for x in words])\n",
    "\n",
    "#All in Lower\n",
    "print([x.lower() for x in words])\n",
    "\n",
    "#lENGTH OF ALL WORDS\n",
    "print([len(x) for x in words])\n",
    "\n",
    "#a list containing the UPPER, lower, length of the word\n",
    "print([[x.upper(),x.lower(),len(x)] for x in words])\n",
    "\n",
    "#words which contain 4 or more characters\n",
    "print([x for x in words if len(x)>3])"
   ]
  },
  {
   "cell_type": "code",
   "execution_count": null,
   "id": "0787721c",
   "metadata": {},
   "outputs": [],
   "source": []
  }
 ],
 "metadata": {
  "kernelspec": {
   "display_name": "Python 3 (ipykernel)",
   "language": "python",
   "name": "python3"
  },
  "language_info": {
   "codemirror_mode": {
    "name": "ipython",
    "version": 3
   },
   "file_extension": ".py",
   "mimetype": "text/x-python",
   "name": "python",
   "nbconvert_exporter": "python",
   "pygments_lexer": "ipython3",
   "version": "3.9.13"
  }
 },
 "nbformat": 4,
 "nbformat_minor": 5
}
